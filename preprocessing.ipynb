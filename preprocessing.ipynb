{
 "metadata": {
  "language_info": {
   "codemirror_mode": {
    "name": "ipython",
    "version": 3
   },
   "file_extension": ".py",
   "mimetype": "text/x-python",
   "name": "python",
   "nbconvert_exporter": "python",
   "pygments_lexer": "ipython3",
   "version": "3.8.8"
  },
  "orig_nbformat": 2,
  "kernelspec": {
   "name": "python3",
   "display_name": "Python 3.8.8 64-bit ('ml': conda)"
  },
  "interpreter": {
   "hash": "a46a7326da725c74d0abad1997cb2210958481e119d745833634a7937449cffa"
  }
 },
 "nbformat": 4,
 "nbformat_minor": 2,
 "cells": [
  {
   "cell_type": "markdown",
   "source": [
    "### Data information\n",
    "\n",
    "Dataset has the following attributes:\n",
    "\n",
    "- type: Event type\n",
    "- duration:  Duration of the event, if it is a fixation, then it is the fixation duration\n",
    "- sac_amplitude: Amplitude of the eye saccades\n",
    "- sac_endpos_x: `x coordinate` of saccades end position \n",
    "- sac_endpos_y: `y coordinate` of saccades end position\n",
    "- sac_startpos_x: `x coordinate` of saccades start position\n",
    "- sac_startpos_y: `y coordinate` of saccades start position\n",
    "- sac_vmax: Maximal velocity of saccade\n",
    "- fix_avgpos_x: Average `x coordinate` position \n",
    "- fix_avgpos_y: Average `y coordinate` position\n",
    "- fix_avgpupilsize: Average pupil size of the eye\n",
    "- overlapping: Whether there are two bounding boxes that are overlapping (e.g. a face, being partially occluded by another head)\n",
    "- fix_samebox: Whether the current fixation is within the same bounding box (e.g. same face) as the previous one.\n",
    "- id: Subject ID\n",
    "- picID: Picture ID\n",
    "- trialnum: Trial Number\n",
    "- fix_type: Type of the fixation.\n",
    "- onset: Event onset time.\n"
   ],
   "metadata": {}
  },
  {
   "cell_type": "markdown",
   "source": [
    "### Task Summary\n",
    "- Analyse dataset and find relation between variables if any"
   ],
   "metadata": {}
  },
  {
   "cell_type": "code",
   "execution_count": 124,
   "source": [
    "import pandas as pd\n",
    "import numpy as np\n",
    "\n",
    "df = pd.read_csv('data/sub-45/eeg/sub-45_task-WLFO_events.tsv', sep='\\t')\n",
    "df = df.rename(str.strip, axis='columns')\n",
    "\n",
    "df.head(2)"
   ],
   "outputs": [
    {
     "output_type": "execute_result",
     "data": {
      "text/plain": [
       "  type  duration  sac_amplitude  sac_endpos_x  sac_endpos_y  sac_startpos_x  \\\n",
       "0   __       0.0            0.0           0.0           0.0             0.0   \n",
       "1  200       0.0            0.0           0.0           0.0             0.0   \n",
       "\n",
       "   sac_startpos_y  sac_vmax  fix_avgpos_x  fix_avgpos_y  fix_avgpupilsize  \\\n",
       "0             0.0       0.0           0.0           0.0               0.0   \n",
       "1             0.0       0.0           0.0           0.0               0.0   \n",
       "\n",
       "   overlapping  fix_samebox  id  picID  trialnum fix_type      onset  \n",
       "0            0          0.0 NaN    NaN       NaN      NaN   0.001953  \n",
       "1            0          0.0 NaN    NaN       NaN      NaN  43.265625  "
      ],
      "text/html": [
       "<div>\n",
       "<style scoped>\n",
       "    .dataframe tbody tr th:only-of-type {\n",
       "        vertical-align: middle;\n",
       "    }\n",
       "\n",
       "    .dataframe tbody tr th {\n",
       "        vertical-align: top;\n",
       "    }\n",
       "\n",
       "    .dataframe thead th {\n",
       "        text-align: right;\n",
       "    }\n",
       "</style>\n",
       "<table border=\"1\" class=\"dataframe\">\n",
       "  <thead>\n",
       "    <tr style=\"text-align: right;\">\n",
       "      <th></th>\n",
       "      <th>type</th>\n",
       "      <th>duration</th>\n",
       "      <th>sac_amplitude</th>\n",
       "      <th>sac_endpos_x</th>\n",
       "      <th>sac_endpos_y</th>\n",
       "      <th>sac_startpos_x</th>\n",
       "      <th>sac_startpos_y</th>\n",
       "      <th>sac_vmax</th>\n",
       "      <th>fix_avgpos_x</th>\n",
       "      <th>fix_avgpos_y</th>\n",
       "      <th>fix_avgpupilsize</th>\n",
       "      <th>overlapping</th>\n",
       "      <th>fix_samebox</th>\n",
       "      <th>id</th>\n",
       "      <th>picID</th>\n",
       "      <th>trialnum</th>\n",
       "      <th>fix_type</th>\n",
       "      <th>onset</th>\n",
       "    </tr>\n",
       "  </thead>\n",
       "  <tbody>\n",
       "    <tr>\n",
       "      <th>0</th>\n",
       "      <td>__</td>\n",
       "      <td>0.0</td>\n",
       "      <td>0.0</td>\n",
       "      <td>0.0</td>\n",
       "      <td>0.0</td>\n",
       "      <td>0.0</td>\n",
       "      <td>0.0</td>\n",
       "      <td>0.0</td>\n",
       "      <td>0.0</td>\n",
       "      <td>0.0</td>\n",
       "      <td>0.0</td>\n",
       "      <td>0</td>\n",
       "      <td>0.0</td>\n",
       "      <td>NaN</td>\n",
       "      <td>NaN</td>\n",
       "      <td>NaN</td>\n",
       "      <td>NaN</td>\n",
       "      <td>0.001953</td>\n",
       "    </tr>\n",
       "    <tr>\n",
       "      <th>1</th>\n",
       "      <td>200</td>\n",
       "      <td>0.0</td>\n",
       "      <td>0.0</td>\n",
       "      <td>0.0</td>\n",
       "      <td>0.0</td>\n",
       "      <td>0.0</td>\n",
       "      <td>0.0</td>\n",
       "      <td>0.0</td>\n",
       "      <td>0.0</td>\n",
       "      <td>0.0</td>\n",
       "      <td>0.0</td>\n",
       "      <td>0</td>\n",
       "      <td>0.0</td>\n",
       "      <td>NaN</td>\n",
       "      <td>NaN</td>\n",
       "      <td>NaN</td>\n",
       "      <td>NaN</td>\n",
       "      <td>43.265625</td>\n",
       "    </tr>\n",
       "  </tbody>\n",
       "</table>\n",
       "</div>"
      ]
     },
     "metadata": {},
     "execution_count": 124
    }
   ],
   "metadata": {}
  },
  {
   "cell_type": "code",
   "execution_count": 125,
   "source": [
    "df.info()"
   ],
   "outputs": [
    {
     "output_type": "stream",
     "name": "stdout",
     "text": [
      "<class 'pandas.core.frame.DataFrame'>\n",
      "RangeIndex: 9279 entries, 0 to 9278\n",
      "Data columns (total 18 columns):\n",
      " #   Column            Non-Null Count  Dtype  \n",
      "---  ------            --------------  -----  \n",
      " 0   type              9279 non-null   object \n",
      " 1   duration          9279 non-null   float64\n",
      " 2   sac_amplitude     8228 non-null   float64\n",
      " 3   sac_endpos_x      8228 non-null   float64\n",
      " 4   sac_endpos_y      8228 non-null   float64\n",
      " 5   sac_startpos_x    8228 non-null   float64\n",
      " 6   sac_startpos_y    8228 non-null   float64\n",
      " 7   sac_vmax          6778 non-null   float64\n",
      " 8   fix_avgpos_x      3683 non-null   float64\n",
      " 9   fix_avgpos_y      3683 non-null   float64\n",
      " 10  fix_avgpupilsize  3683 non-null   float64\n",
      " 11  overlapping       9279 non-null   int64  \n",
      " 12  fix_samebox       4734 non-null   float64\n",
      " 13  id                171 non-null    float64\n",
      " 14  picID             171 non-null    float64\n",
      " 15  trialnum          171 non-null    float64\n",
      " 16  fix_type          2461 non-null   object \n",
      " 17  onset             9279 non-null   float64\n",
      "dtypes: float64(15), int64(1), object(2)\n",
      "memory usage: 1.3+ MB\n"
     ]
    }
   ],
   "metadata": {}
  },
  {
   "cell_type": "markdown",
   "source": [
    "we observe that: \n",
    "- 'type' and 'fix_type' are categorial values.\n",
    "- duration, sac_amplitude, sac_endpos_x, sac_endpos_y, sac_startpos_x, sac_startpos_y, sac_vmax, fix_avgpos_x, fix_avgpos_y, fix_avgpupilsize, overlapping, fix_samebox, id, picID, trailnum, onset are numerical attributes\n",
    " "
   ],
   "metadata": {}
  },
  {
   "cell_type": "markdown",
   "source": [
    "### Understanding categorical variables "
   ],
   "metadata": {}
  },
  {
   "cell_type": "code",
   "execution_count": 126,
   "source": [
    "df['fix_type'].unique()"
   ],
   "outputs": [
    {
     "output_type": "execute_result",
     "data": {
      "text/plain": [
       "array([nan, 'NonetoNone', 'NonetoHF', 'HFtoNone', 'HFtoHF', 'NonetoOS',\n",
       "       'OStoNone', 'NonetoHH', 'HHtoNone', 'OLtoNone', 'HFtoNH',\n",
       "       'NHtoNone', 'NonetoNH', 'OStoOS', 'NHtoNH', 'NHtoHF', 'OLtoHF',\n",
       "       'HFtoHH', 'HHtoHH', 'HHtoHF', 'NonetoOL', 'OStoHF', 'OStoNH',\n",
       "       'OStoHH', 'HFtoOS'], dtype=object)"
      ]
     },
     "metadata": {},
     "execution_count": 126
    }
   ],
   "metadata": {}
  },
  {
   "cell_type": "markdown",
   "source": [
    "### Types:\n",
    "- NonetoNone:Background to Background\n",
    "- NonetoHF - HFtoNone: Background to Human Face - Human Face to Backgound\n",
    "- HFtoHF: Human Face to Human Face\n",
    "- NonetoOS - OStoNone: Background to Outside the image - Outside to background\n",
    "- NonetoHH - HHToNone: Backgound to human head, in difference to human face\n",
    "- OLtoNone: Overlapping bounding box, no unique attribution possible\n",
    "- HFtoNH: Human Face to non human head (e.g. cardboard, or mannequin)\n",
    "- NHtoNone: Non human head (e.g. cardboard, or mannequin) to Backgound\n",
    "- OStoOS: Outside stimulus to outside stimulus\n",
    "- NHtoNH: Non human head (e.g. cardboard, or mannequin) to Non human head (e.g. cardboard, or mannequin)\n",
    "- OLtoHF: Overlapping bounding box to Human Face?\n",
    "- HFtoHH: Human Face to Human Head\n",
    "- HHtoHH: Human Head to Human Head\n",
    "- NonetoOL: Backgound to Overlapping bounding box\n",
    "- OstoHF - OStoNH: Self decoded\n",
    "- OStoHH - HFtoOS: Self decoded"
   ],
   "metadata": {}
  },
  {
   "cell_type": "code",
   "execution_count": 127,
   "source": [
    "df['type'].unique()"
   ],
   "outputs": [
    {
     "output_type": "execute_result",
     "data": {
      "text/plain": [
       "array(['__', '200', 'blink', 'stimulus', 'fixation', 'saccade',\n",
       "       'blinkFix', '180', '212', '213', '214', '255'], dtype=object)"
      ]
     },
     "metadata": {},
     "execution_count": 127
    }
   ],
   "metadata": {}
  },
  {
   "cell_type": "markdown",
   "source": [
    "### Triggers\n",
    "- 213, 214, 215 : Recalibration settings for eye tracker\n",
    "- 180: End of stimulus  "
   ],
   "metadata": {}
  },
  {
   "cell_type": "markdown",
   "source": [
    "## Saliency Map"
   ],
   "metadata": {}
  },
  {
   "cell_type": "code",
   "execution_count": 128,
   "source": [
    "df['picID'].unique()[1:]"
   ],
   "outputs": [
    {
     "output_type": "execute_result",
     "data": {
      "text/plain": [
       "array([113.,  79., 105.,   7.,  60.,  81.,  50., 121., 115.,  28., 114.,\n",
       "         4., 110.,  45.,  70., 165.,  92., 138.,  40.,  32.,  22., 128.,\n",
       "       152.,   9.,  48., 118.,  69., 123., 149.,  80.,  74.,   8., 167.,\n",
       "        52.,  51., 117.,  67., 153.,  62.,  30., 108.,  23., 155., 119.,\n",
       "        95.,  25.,  36.,  56.,  39.,  89.,  55.,   3.,  16.,  20.,  68.,\n",
       "       102.,  75., 170., 139.,  42., 163., 137.,  63., 162., 122., 164.,\n",
       "       116., 136., 124.,  26., 141., 157.,  59.,  34., 120., 112., 147.,\n",
       "       130., 151., 148.,  98.,  19.,  61.,   5.,  82., 169.,  44., 106.,\n",
       "        37.,  66.,  14.,   6., 109., 146.,  24.,  71.,  21., 160., 101.,\n",
       "       129., 171.,   2.,  38.,  84., 103., 104., 158., 140.,  33., 145.,\n",
       "        93., 132.,  76., 156.,  15.,  10., 150.,  64.,  12., 135.,  54.,\n",
       "       100.,  18.,  58.,  91.,  31.,  99.,  65.,  41.,  88., 159.,  78.,\n",
       "        94., 125.,  47., 142., 134.,  86., 133.,  27., 161.,  43.,  35.,\n",
       "        83.,  97.,  49.,  11., 143., 126., 154.,  73.,  46.,  90.,  53.,\n",
       "        29., 127., 144., 168.,  77.,  87., 131., 111.,  17., 166.,  57.,\n",
       "        85.,  96.,   1., 107.,  13.,  72.])"
      ]
     },
     "metadata": {},
     "execution_count": 128
    }
   ],
   "metadata": {}
  },
  {
   "cell_type": "code",
   "execution_count": 129,
   "source": [
    "df_pic = df.loc[df['picID'].isin(df['picID'].unique()[1:])]\n",
    "idx = df_pic.index.values\n",
    "images_df = [ df.iloc[np.arange(idx[id-1], idx[id])] for id in range( 1,len(df['picID'].unique()[1:]))]"
   ],
   "outputs": [],
   "metadata": {}
  },
  {
   "cell_type": "code",
   "execution_count": 130,
   "source": [
    "def GaussianMask(sizex,sizey, sigma=33, center=None,fix=1):\n",
    "    x = np.arange(0, sizex, 1, float)\n",
    "    y = np.arange(0, sizey, 1, float)\n",
    "    x, y = np.meshgrid(x,y)\n",
    "    \n",
    "    if center is None:\n",
    "        x0 = sizex // 2\n",
    "        y0 = sizey // 2\n",
    "    else:\n",
    "        if np.isnan(center[0])==False and np.isnan(center[1])==False:            \n",
    "            x0 = center[0]\n",
    "            y0 = center[1]        \n",
    "        else:\n",
    "            return np.zeros((sizey,sizex))\n",
    "\n",
    "    return fix*np.exp(-4*np.log(2) * ((x-x0)**2 + (y-y0)**2) / sigma**2)"
   ],
   "outputs": [],
   "metadata": {}
  },
  {
   "cell_type": "code",
   "execution_count": 131,
   "source": [
    "def GenerateSaliencyMap(width = 3840, height=2160, df = None):\n",
    "    \n",
    "    size = max(width, height)\n",
    "    heatmap = np.zeros((size, size), np.float32)\n",
    "\n",
    "    X = df[\"fix_avgpos_x\"].tolist()\n",
    "    Y = df['fix_avgpos_y'].tolist()\n",
    "    sigma = [ x*10 if x > 0 else 0.5 for x in df['sac_amplitude']]\n",
    "    psize = df['fix_avgpupilsize'].tolist()\n",
    "\n",
    "    for i in range(len(X)):\n",
    "        heatmap += GaussianMask(size, size, sigma[i], (X[i],Y[i]), psize[i])\n",
    "    heatmap = heatmap[:height, :width]    \n",
    "    heatmap = heatmap/np.amax(heatmap)\n",
    "    heatmap = heatmap*255\n",
    "    heatmap = heatmap.astype(\"uint8\")\n",
    "    return heatmap\n",
    "    "
   ],
   "outputs": [],
   "metadata": {}
  },
  {
   "cell_type": "code",
   "execution_count": 132,
   "source": [
    "len(images_df)"
   ],
   "outputs": [
    {
     "output_type": "execute_result",
     "data": {
      "text/plain": [
       "170"
      ]
     },
     "metadata": {},
     "execution_count": 132
    }
   ],
   "metadata": {}
  },
  {
   "cell_type": "code",
   "execution_count": 133,
   "source": [
    "sal_imgs = [ GenerateSaliencyMap(df=df) for df in images_df[:10]]"
   ],
   "outputs": [],
   "metadata": {}
  },
  {
   "cell_type": "code",
   "execution_count": 141,
   "source": [
    "import matplotlib.pyplot as plt\n",
    "plt.axis('off')\n",
    "fig = plt.figure(figsize=(20, 20))\n",
    "\n",
    "for i in range(1, len(sal_imgs) + 1):\n",
    "    fig.add_subplot(2, 5, i)\n",
    "    image_id = images_df[i-1]['picID'].dropna().to_list()[0]\n",
    "    plt.gca().set_title('picID {}'.format(image_id))\n",
    "    plt.axis('off')\n",
    "    plt.imshow(sal_imgs[i-1], cmap='bone')\n",
    "plt.savefig('output.png')"
   ],
   "outputs": [
    {
     "output_type": "display_data",
     "data": {
      "text/plain": [
       "<Figure size 432x288 with 1 Axes>"
      ],
      "image/svg+xml": "<?xml version=\"1.0\" encoding=\"utf-8\" standalone=\"no\"?>\n<!DOCTYPE svg PUBLIC \"-//W3C//DTD SVG 1.1//EN\"\n  \"http://www.w3.org/Graphics/SVG/1.1/DTD/svg11.dtd\">\n<svg height=\"231.84pt\" version=\"1.1\" viewBox=\"0 0 349.2 231.84\" width=\"349.2pt\" xmlns=\"http://www.w3.org/2000/svg\" xmlns:xlink=\"http://www.w3.org/1999/xlink\">\n <metadata>\n  <rdf:RDF xmlns:cc=\"http://creativecommons.org/ns#\" xmlns:dc=\"http://purl.org/dc/elements/1.1/\" xmlns:rdf=\"http://www.w3.org/1999/02/22-rdf-syntax-ns#\">\n   <cc:Work>\n    <dc:type rdf:resource=\"http://purl.org/dc/dcmitype/StillImage\"/>\n    <dc:date>2021-08-09T01:44:13.855967</dc:date>\n    <dc:format>image/svg+xml</dc:format>\n    <dc:creator>\n     <cc:Agent>\n      <dc:title>Matplotlib v3.4.1, https://matplotlib.org/</dc:title>\n     </cc:Agent>\n    </dc:creator>\n   </cc:Work>\n  </rdf:RDF>\n </metadata>\n <defs>\n  <style type=\"text/css\">*{stroke-linecap:butt;stroke-linejoin:round;}</style>\n </defs>\n <g id=\"figure_1\">\n  <g id=\"patch_1\">\n   <path d=\"M 0 231.84 \nL 349.2 231.84 \nL 349.2 0 \nL 0 0 \nz\n\" style=\"fill:none;\"/>\n  </g>\n  <g id=\"axes_1\"/>\n </g>\n</svg>\n",
      "image/png": "[encoded data removed]"
     },
     "metadata": {
      "needs_background": "light"
     }
    },
    {
     "output_type": "display_data",
     "data": {
      "text/plain": [
       "<Figure size 1440x1440 with 5 Axes>"
      ],
      "image/svg+xml": "<?xml version=\"1.0\" encoding=\"utf-8\" standalone=\"no\"?>\n<!DOCTYPE svg PUBLIC \"-//W3C//DTD SVG 1.1//EN\"\n  \"http://www.w3.org/Graphics/SVG/1.1/DTD/svg11.dtd\">\n<svg height=\"137.750884pt\" version=\"1.1\" viewBox=\"0 0 1130.4 137.750884\" width=\"1130.4pt\" xmlns=\"http://www.w3.org/2000/svg\" xmlns:xlink=\"http://www.w3.org/1999/xlink\">\n <metadata>\n  <rdf:RDF xmlns:cc=\"http://creativecommons.org/ns#\" xmlns:dc=\"http://purl.org/dc/elements/1.1/\" xmlns:rdf=\"http://www.w3.org/1999/02/22-rdf-syntax-ns#\">\n   <cc:Work>\n    <dc:type rdf:resource=\"http://purl.org/dc/dcmitype/StillImage\"/>\n    <dc:date>2021-08-09T01:44:14.526937</dc:date>\n    <dc:format>image/svg+xml</dc:format>\n    <dc:creator>\n     <cc:Agent>\n      <dc:title>Matplotlib v3.4.1, https://matplotlib.org/</dc:title>\n     </cc:Agent>\n    </dc:creator>\n   </cc:Work>\n  </rdf:RDF>\n </metadata>\n <defs>\n  <style type=\"text/css\">*{stroke-linecap:butt;stroke-linejoin:round;}</style>\n </defs>\n <g id=\"figure_1\">\n  <g id=\"patch_1\">\n   <path d=\"M 0 137.750884 \nL 1130.4 137.750884 \nL 1130.4 0 \nL 0 0 \nz\n\" style=\"fill:none;\"/>\n  </g>\n  <g id=\"axes_1\">\n   <g clip-path=\"url(#pa45140278a)\">\n    <image height=\"109\" id=\"image0d401c3b80\" transform=\"scale(1 -1)translate(0 -109)\" width=\"193\" x=\"7.2\" xlink:href=\"data:image/png;base64,\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\" y=\"-21.550884\"/>\n   </g>\n   <g id=\"text_1\">\n    <!-- picID 113.0 -->\n    <g transform=\"translate(69.158147 16.318125)scale(0.12 -0.12)\">\n     <defs>\n      <path d=\"M 1159 525 \nL 1159 -1331 \nL 581 -1331 \nL 581 3500 \nL 1159 3500 \nL 1159 2969 \nQ 1341 3281 1617 3432 \nQ 1894 3584 2278 3584 \nQ 2916 3584 3314 3078 \nQ 3713 2572 3713 1747 \nQ 3713 922 3314 415 \nQ 2916 -91 2278 -91 \nQ 1894 -91 1617 61 \nQ 1341 213 1159 525 \nz\nM 3116 1747 \nQ 3116 2381 2855 2742 \nQ 2594 3103 2138 3103 \nQ 1681 3103 1420 2742 \nQ 1159 2381 1159 1747 \nQ 1159 1113 1420 752 \nQ 1681 391 2138 391 \nQ 2594 391 2855 752 \nQ 3116 1113 3116 1747 \nz\n\" id=\"DejaVuSans-70\" transform=\"scale(0.015625)\"/>\n      <path d=\"M 603 3500 \nL 1178 3500 \nL 1178 0 \nL 603 0 \nL 603 3500 \nz\nM 603 4863 \nL 1178 4863 \nL 1178 4134 \nL 603 4134 \nL 603 4863 \nz\n\" id=\"DejaVuSans-69\" transform=\"scale(0.015625)\"/>\n      <path d=\"M 3122 3366 \nL 3122 2828 \nQ 2878 2963 2633 3030 \nQ 2388 3097 2138 3097 \nQ 1578 3097 1268 2742 \nQ 959 2388 959 1747 \nQ 959 1106 1268 751 \nQ 1578 397 2138 397 \nQ 2388 397 2633 464 \nQ 2878 531 3122 666 \nL 3122 134 \nQ 2881 22 2623 -34 \nQ 2366 -91 2075 -91 \nQ 1284 -91 818 406 \nQ 353 903 353 1747 \nQ 353 2603 823 3093 \nQ 1294 3584 2113 3584 \nQ 2378 3584 2631 3529 \nQ 2884 3475 3122 3366 \nz\n\" id=\"DejaVuSans-63\" transform=\"scale(0.015625)\"/>\n      <path d=\"M 628 4666 \nL 1259 4666 \nL 1259 0 \nL 628 0 \nL 628 4666 \nz\n\" id=\"DejaVuSans-49\" transform=\"scale(0.015625)\"/>\n      <path d=\"M 1259 4147 \nL 1259 519 \nL 2022 519 \nQ 2988 519 3436 956 \nQ 3884 1394 3884 2338 \nQ 3884 3275 3436 3711 \nQ 2988 4147 2022 4147 \nL 1259 4147 \nz\nM 628 4666 \nL 1925 4666 \nQ 3281 4666 3915 4102 \nQ 4550 3538 4550 2338 \nQ 4550 1131 3912 565 \nQ 3275 0 1925 0 \nL 628 0 \nL 628 4666 \nz\n\" id=\"DejaVuSans-44\" transform=\"scale(0.015625)\"/>\n      <path id=\"DejaVuSans-20\" transform=\"scale(0.015625)\"/>\n      <path d=\"M 794 531 \nL 1825 531 \nL 1825 4091 \nL 703 3866 \nL 703 4441 \nL 1819 4666 \nL 2450 4666 \nL 2450 531 \nL 3481 531 \nL 3481 0 \nL 794 0 \nL 794 531 \nz\n\" id=\"DejaVuSans-31\" transform=\"scale(0.015625)\"/>\n      <path d=\"M 2597 2516 \nQ 3050 2419 3304 2112 \nQ 3559 1806 3559 1356 \nQ 3559 666 3084 287 \nQ 2609 -91 1734 -91 \nQ 1441 -91 1130 -33 \nQ 819 25 488 141 \nL 488 750 \nQ 750 597 1062 519 \nQ 1375 441 1716 441 \nQ 2309 441 2620 675 \nQ 2931 909 2931 1356 \nQ 2931 1769 2642 2001 \nQ 2353 2234 1838 2234 \nL 1294 2234 \nL 1294 2753 \nL 1863 2753 \nQ 2328 2753 2575 2939 \nQ 2822 3125 2822 3475 \nQ 2822 3834 2567 4026 \nQ 2313 4219 1838 4219 \nQ 1578 4219 1281 4162 \nQ 984 4106 628 3988 \nL 628 4550 \nQ 988 4650 1302 4700 \nQ 1616 4750 1894 4750 \nQ 2613 4750 3031 4423 \nQ 3450 4097 3450 3541 \nQ 3450 3153 3228 2886 \nQ 3006 2619 2597 2516 \nz\n\" id=\"DejaVuSans-33\" transform=\"scale(0.015625)\"/>\n      <path d=\"M 684 794 \nL 1344 794 \nL 1344 0 \nL 684 0 \nL 684 794 \nz\n\" id=\"DejaVuSans-2e\" transform=\"scale(0.015625)\"/>\n      <path d=\"M 2034 4250 \nQ 1547 4250 1301 3770 \nQ 1056 3291 1056 2328 \nQ 1056 1369 1301 889 \nQ 1547 409 2034 409 \nQ 2525 409 2770 889 \nQ 3016 1369 3016 2328 \nQ 3016 3291 2770 3770 \nQ 2525 4250 2034 4250 \nz\nM 2034 4750 \nQ 2819 4750 3233 4129 \nQ 3647 3509 3647 2328 \nQ 3647 1150 3233 529 \nQ 2819 -91 2034 -91 \nQ 1250 -91 836 529 \nQ 422 1150 422 2328 \nQ 422 3509 836 4129 \nQ 1250 4750 2034 4750 \nz\n\" id=\"DejaVuSans-30\" transform=\"scale(0.015625)\"/>\n     </defs>\n     <use xlink:href=\"#DejaVuSans-70\"/>\n     <use x=\"63.476562\" xlink:href=\"#DejaVuSans-69\"/>\n     <use x=\"91.259766\" xlink:href=\"#DejaVuSans-63\"/>\n     <use x=\"146.240234\" xlink:href=\"#DejaVuSans-49\"/>\n     <use x=\"175.732422\" xlink:href=\"#DejaVuSans-44\"/>\n     <use x=\"252.734375\" xlink:href=\"#DejaVuSans-20\"/>\n     <use x=\"284.521484\" xlink:href=\"#DejaVuSans-31\"/>\n     <use x=\"348.144531\" xlink:href=\"#DejaVuSans-31\"/>\n     <use x=\"411.767578\" xlink:href=\"#DejaVuSans-33\"/>\n     <use x=\"475.390625\" xlink:href=\"#DejaVuSans-2e\"/>\n     <use x=\"507.177734\" xlink:href=\"#DejaVuSans-30\"/>\n    </g>\n   </g>\n  </g>\n  <g id=\"axes_2\">\n   <g clip-path=\"url(#p8a5292cfc3)\">\n    <image height=\"109\" id=\"image23bb211663\" transform=\"scale(1 -1)translate(0 -109)\" width=\"193\" x=\"238.096552\" xlink:href=\"data:image/png;base64,\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\" y=\"-21.550884\"/>\n   </g>\n   <g id=\"text_2\">\n    <!-- picID 79.0 -->\n    <g transform=\"translate(303.872198 16.318125)scale(0.12 -0.12)\">\n     <defs>\n      <path d=\"M 525 4666 \nL 3525 4666 \nL 3525 4397 \nL 1831 0 \nL 1172 0 \nL 2766 4134 \nL 525 4134 \nL 525 4666 \nz\n\" id=\"DejaVuSans-37\" transform=\"scale(0.015625)\"/>\n      <path d=\"M 703 97 \nL 703 672 \nQ 941 559 1184 500 \nQ 1428 441 1663 441 \nQ 2288 441 2617 861 \nQ 2947 1281 2994 2138 \nQ 2813 1869 2534 1725 \nQ 2256 1581 1919 1581 \nQ 1219 1581 811 2004 \nQ 403 2428 403 3163 \nQ 403 3881 828 4315 \nQ 1253 4750 1959 4750 \nQ 2769 4750 3195 4129 \nQ 3622 3509 3622 2328 \nQ 3622 1225 3098 567 \nQ 2575 -91 1691 -91 \nQ 1453 -91 1209 -44 \nQ 966 3 703 97 \nz\nM 1959 2075 \nQ 2384 2075 2632 2365 \nQ 2881 2656 2881 3163 \nQ 2881 3666 2632 3958 \nQ 2384 4250 1959 4250 \nQ 1534 4250 1286 3958 \nQ 1038 3666 1038 3163 \nQ 1038 2656 1286 2365 \nQ 1534 2075 1959 2075 \nz\n\" id=\"DejaVuSans-39\" transform=\"scale(0.015625)\"/>\n     </defs>\n     <use xlink:href=\"#DejaVuSans-70\"/>\n     <use x=\"63.476562\" xlink:href=\"#DejaVuSans-69\"/>\n     <use x=\"91.259766\" xlink:href=\"#DejaVuSans-63\"/>\n     <use x=\"146.240234\" xlink:href=\"#DejaVuSans-49\"/>\n     <use x=\"175.732422\" xlink:href=\"#DejaVuSans-44\"/>\n     <use x=\"252.734375\" xlink:href=\"#DejaVuSans-20\"/>\n     <use x=\"284.521484\" xlink:href=\"#DejaVuSans-37\"/>\n     <use x=\"348.144531\" xlink:href=\"#DejaVuSans-39\"/>\n     <use x=\"411.767578\" xlink:href=\"#DejaVuSans-2e\"/>\n     <use x=\"443.554688\" xlink:href=\"#DejaVuSans-30\"/>\n    </g>\n   </g>\n  </g>\n  <g id=\"axes_3\">\n   <g clip-path=\"url(#pb0a0e33e10)\">\n    <image height=\"109\" id=\"imagee18e488781\" transform=\"scale(1 -1)translate(0 -109)\" width=\"193\" x=\"468.993103\" xlink:href=\"data:image/png;base64,\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\" y=\"-21.550884\"/>\n   </g>\n   <g id=\"text_3\">\n    <!-- picID 105.0 -->\n    <g transform=\"translate(530.95125 16.318125)scale(0.12 -0.12)\">\n     <defs>\n      <path d=\"M 691 4666 \nL 3169 4666 \nL 3169 4134 \nL 1269 4134 \nL 1269 2991 \nQ 1406 3038 1543 3061 \nQ 1681 3084 1819 3084 \nQ 2600 3084 3056 2656 \nQ 3513 2228 3513 1497 \nQ 3513 744 3044 326 \nQ 2575 -91 1722 -91 \nQ 1428 -91 1123 -41 \nQ 819 9 494 109 \nL 494 744 \nQ 775 591 1075 516 \nQ 1375 441 1709 441 \nQ 2250 441 2565 725 \nQ 2881 1009 2881 1497 \nQ 2881 1984 2565 2268 \nQ 2250 2553 1709 2553 \nQ 1456 2553 1204 2497 \nQ 953 2441 691 2322 \nL 691 4666 \nz\n\" id=\"DejaVuSans-35\" transform=\"scale(0.015625)\"/>\n     </defs>\n     <use xlink:href=\"#DejaVuSans-70\"/>\n     <use x=\"63.476562\" xlink:href=\"#DejaVuSans-69\"/>\n     <use x=\"91.259766\" xlink:href=\"#DejaVuSans-63\"/>\n     <use x=\"146.240234\" xlink:href=\"#DejaVuSans-49\"/>\n     <use x=\"175.732422\" xlink:href=\"#DejaVuSans-44\"/>\n     <use x=\"252.734375\" xlink:href=\"#DejaVuSans-20\"/>\n     <use x=\"284.521484\" xlink:href=\"#DejaVuSans-31\"/>\n     <use x=\"348.144531\" xlink:href=\"#DejaVuSans-30\"/>\n     <use x=\"411.767578\" xlink:href=\"#DejaVuSans-35\"/>\n     <use x=\"475.390625\" xlink:href=\"#DejaVuSans-2e\"/>\n     <use x=\"507.177734\" xlink:href=\"#DejaVuSans-30\"/>\n    </g>\n   </g>\n  </g>\n  <g id=\"axes_4\">\n   <g clip-path=\"url(#p65bdfd0d2f)\">\n    <image height=\"109\" id=\"image3570f6ee83\" transform=\"scale(1 -1)translate(0 -109)\" width=\"193\" x=\"699.889655\" xlink:href=\"data:image/png;base64,\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\" y=\"-21.550884\"/>\n   </g>\n   <g id=\"text_4\">\n    <!-- picID 7.0 -->\n    <g transform=\"translate(769.482802 16.318125)scale(0.12 -0.12)\">\n     <use xlink:href=\"#DejaVuSans-70\"/>\n     <use x=\"63.476562\" xlink:href=\"#DejaVuSans-69\"/>\n     <use x=\"91.259766\" xlink:href=\"#DejaVuSans-63\"/>\n     <use x=\"146.240234\" xlink:href=\"#DejaVuSans-49\"/>\n     <use x=\"175.732422\" xlink:href=\"#DejaVuSans-44\"/>\n     <use x=\"252.734375\" xlink:href=\"#DejaVuSans-20\"/>\n     <use x=\"284.521484\" xlink:href=\"#DejaVuSans-37\"/>\n     <use x=\"348.144531\" xlink:href=\"#DejaVuSans-2e\"/>\n     <use x=\"379.931641\" xlink:href=\"#DejaVuSans-30\"/>\n    </g>\n   </g>\n  </g>\n  <g id=\"axes_5\">\n   <g clip-path=\"url(#pd998ce52a6)\">\n    <image height=\"109\" id=\"imagec2013b67fe\" transform=\"scale(1 -1)translate(0 -109)\" width=\"193\" x=\"930.786207\" xlink:href=\"data:image/png;base64,\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\" y=\"-21.550884\"/>\n   </g>\n   <g id=\"text_5\">\n    <!-- picID 60.0 -->\n    <g transform=\"translate(996.561853 16.318125)scale(0.12 -0.12)\">\n     <defs>\n      <path d=\"M 2113 2584 \nQ 1688 2584 1439 2293 \nQ 1191 2003 1191 1497 \nQ 1191 994 1439 701 \nQ 1688 409 2113 409 \nQ 2538 409 2786 701 \nQ 3034 994 3034 1497 \nQ 3034 2003 2786 2293 \nQ 2538 2584 2113 2584 \nz\nM 3366 4563 \nL 3366 3988 \nQ 3128 4100 2886 4159 \nQ 2644 4219 2406 4219 \nQ 1781 4219 1451 3797 \nQ 1122 3375 1075 2522 \nQ 1259 2794 1537 2939 \nQ 1816 3084 2150 3084 \nQ 2853 3084 3261 2657 \nQ 3669 2231 3669 1497 \nQ 3669 778 3244 343 \nQ 2819 -91 2113 -91 \nQ 1303 -91 875 529 \nQ 447 1150 447 2328 \nQ 447 3434 972 4092 \nQ 1497 4750 2381 4750 \nQ 2619 4750 2861 4703 \nQ 3103 4656 3366 4563 \nz\n\" id=\"DejaVuSans-36\" transform=\"scale(0.015625)\"/>\n     </defs>\n     <use xlink:href=\"#DejaVuSans-70\"/>\n     <use x=\"63.476562\" xlink:href=\"#DejaVuSans-69\"/>\n     <use x=\"91.259766\" xlink:href=\"#DejaVuSans-63\"/>\n     <use x=\"146.240234\" xlink:href=\"#DejaVuSans-49\"/>\n     <use x=\"175.732422\" xlink:href=\"#DejaVuSans-44\"/>\n     <use x=\"252.734375\" xlink:href=\"#DejaVuSans-20\"/>\n     <use x=\"284.521484\" xlink:href=\"#DejaVuSans-36\"/>\n     <use x=\"348.144531\" xlink:href=\"#DejaVuSans-30\"/>\n     <use x=\"411.767578\" xlink:href=\"#DejaVuSans-2e\"/>\n     <use x=\"443.554688\" xlink:href=\"#DejaVuSans-30\"/>\n    </g>\n   </g>\n  </g>\n </g>\n <defs>\n  <clipPath id=\"pa45140278a\">\n   <rect height=\"108.232759\" width=\"192.413793\" x=\"7.2\" y=\"22.318125\"/>\n  </clipPath>\n  <clipPath id=\"p8a5292cfc3\">\n   <rect height=\"108.232759\" width=\"192.413793\" x=\"238.096552\" y=\"22.318125\"/>\n  </clipPath>\n  <clipPath id=\"pb0a0e33e10\">\n   <rect height=\"108.232759\" width=\"192.413793\" x=\"468.993103\" y=\"22.318125\"/>\n  </clipPath>\n  <clipPath id=\"p65bdfd0d2f\">\n   <rect height=\"108.232759\" width=\"192.413793\" x=\"699.889655\" y=\"22.318125\"/>\n  </clipPath>\n  <clipPath id=\"pd998ce52a6\">\n   <rect height=\"108.232759\" width=\"192.413793\" x=\"930.786207\" y=\"22.318125\"/>\n  </clipPath>\n </defs>\n</svg>\n",
      "image/png": "[encoded data removed]"
     },
     "metadata": {
      "needs_background": "light"
     }
    }
   ],
   "metadata": {}
  },
  {
   "cell_type": "code",
   "execution_count": null,
   "source": [
    "# df = df.loc[df['type'] == 'fixation']"
   ],
   "outputs": [],
   "metadata": {}
  },
  {
   "cell_type": "markdown",
   "source": [
    "`Null Values` in the dataset"
   ],
   "metadata": {}
  },
  {
   "cell_type": "code",
   "execution_count": null,
   "source": [
    "df.isnull().sum()"
   ],
   "outputs": [
    {
     "output_type": "execute_result",
     "data": {
      "text/plain": [
       "type                   0\n",
       "duration               0\n",
       "sac_amplitude       1051\n",
       "sac_endpos_x        1051\n",
       "sac_endpos_y        1051\n",
       "sac_startpos_x      1051\n",
       "sac_startpos_y      1051\n",
       "sac_vmax            2501\n",
       "fix_avgpos_x        5596\n",
       "fix_avgpos_y        5596\n",
       "fix_avgpupilsize    5596\n",
       "overlapping            0\n",
       "fix_samebox         4545\n",
       "id                  9108\n",
       "picID               9108\n",
       "trialnum            9108\n",
       "fix_type            6818\n",
       "onset                  0\n",
       "dtype: int64"
      ]
     },
     "metadata": {},
     "execution_count": 92
    }
   ],
   "metadata": {}
  },
  {
   "cell_type": "markdown",
   "source": [
    "# Insights on distribution \n",
    "Plotting individual attributes"
   ],
   "metadata": {}
  },
  {
   "cell_type": "code",
   "execution_count": null,
   "source": [
    "df.describe()"
   ],
   "outputs": [
    {
     "output_type": "execute_result",
     "data": {
      "text/plain": [
       "          duration  sac_amplitude  sac_endpos_x  sac_endpos_y  sac_startpos_x  \\\n",
       "count  9279.000000   8.228000e+03   8228.000000   8228.000000     8228.000000   \n",
       "mean      0.174434   7.382839e+03   1869.303683    962.230421     1867.923748   \n",
       "std       0.801564   1.180972e+05    805.722577    396.942048      790.067125   \n",
       "min       0.000000   0.000000e+00      0.000000   -669.500000        0.000000   \n",
       "25%       0.011000   1.150000e+00   1410.000000    786.450000     1443.000000   \n",
       "50%       0.039500   3.385000e+00   1958.800000   1012.300000     1941.900000   \n",
       "75%       0.101000   8.820000e+00   2479.350000   1200.300000     2454.075000   \n",
       "max       6.000000   2.000000e+06   4555.000000   4119.800000     4551.800000   \n",
       "\n",
       "       sac_startpos_y     sac_vmax  fix_avgpos_x  fix_avgpos_y  \\\n",
       "count     8228.000000  6778.000000   3683.000000   3683.000000   \n",
       "mean       959.980177   193.220271   1691.337958    844.414635   \n",
       "std        393.420906   121.568228    964.729238    461.817675   \n",
       "min      -1124.300000     0.000000      0.000000    -13.800000   \n",
       "25%        788.225000    94.000000   1154.900000    677.000000   \n",
       "50%       1009.000000   180.000000   1869.000000    924.800000   \n",
       "75%       1181.300000   294.000000   2478.300000   1157.750000   \n",
       "max       4146.000000   893.000000   4507.000000   2427.500000   \n",
       "\n",
       "       fix_avgpupilsize  overlapping  fix_samebox     id       picID  \\\n",
       "count       3683.000000  9279.000000  4734.000000  171.0  171.000000   \n",
       "mean         188.400489     0.000754     0.065906   45.0   86.000000   \n",
       "std          100.454462     0.027457     0.248144    0.0   49.507575   \n",
       "min            0.000000     0.000000     0.000000   45.0    1.000000   \n",
       "25%          159.000000     0.000000     0.000000   45.0   43.500000   \n",
       "50%          210.000000     0.000000     0.000000   45.0   86.000000   \n",
       "75%          254.000000     0.000000     0.000000   45.0  128.500000   \n",
       "max          436.000000     1.000000     1.000000   45.0  171.000000   \n",
       "\n",
       "         trialnum        onset  \n",
       "count  171.000000  9279.000000  \n",
       "mean    86.000000  1456.682525  \n",
       "std     49.507575   860.944280  \n",
       "min      1.000000     0.001953  \n",
       "25%     43.500000   663.708008  \n",
       "50%     86.000000  1413.116211  \n",
       "75%    128.500000  2325.609375  \n",
       "max    171.000000  2877.192383  "
      ],
      "text/html": [
       "<div>\n",
       "<style scoped>\n",
       "    .dataframe tbody tr th:only-of-type {\n",
       "        vertical-align: middle;\n",
       "    }\n",
       "\n",
       "    .dataframe tbody tr th {\n",
       "        vertical-align: top;\n",
       "    }\n",
       "\n",
       "    .dataframe thead th {\n",
       "        text-align: right;\n",
       "    }\n",
       "</style>\n",
       "<table border=\"1\" class=\"dataframe\">\n",
       "  <thead>\n",
       "    <tr style=\"text-align: right;\">\n",
       "      <th></th>\n",
       "      <th>duration</th>\n",
       "      <th>sac_amplitude</th>\n",
       "      <th>sac_endpos_x</th>\n",
       "      <th>sac_endpos_y</th>\n",
       "      <th>sac_startpos_x</th>\n",
       "      <th>sac_startpos_y</th>\n",
       "      <th>sac_vmax</th>\n",
       "      <th>fix_avgpos_x</th>\n",
       "      <th>fix_avgpos_y</th>\n",
       "      <th>fix_avgpupilsize</th>\n",
       "      <th>overlapping</th>\n",
       "      <th>fix_samebox</th>\n",
       "      <th>id</th>\n",
       "      <th>picID</th>\n",
       "      <th>trialnum</th>\n",
       "      <th>onset</th>\n",
       "    </tr>\n",
       "  </thead>\n",
       "  <tbody>\n",
       "    <tr>\n",
       "      <th>count</th>\n",
       "      <td>9279.000000</td>\n",
       "      <td>8.228000e+03</td>\n",
       "      <td>8228.000000</td>\n",
       "      <td>8228.000000</td>\n",
       "      <td>8228.000000</td>\n",
       "      <td>8228.000000</td>\n",
       "      <td>6778.000000</td>\n",
       "      <td>3683.000000</td>\n",
       "      <td>3683.000000</td>\n",
       "      <td>3683.000000</td>\n",
       "      <td>9279.000000</td>\n",
       "      <td>4734.000000</td>\n",
       "      <td>171.0</td>\n",
       "      <td>171.000000</td>\n",
       "      <td>171.000000</td>\n",
       "      <td>9279.000000</td>\n",
       "    </tr>\n",
       "    <tr>\n",
       "      <th>mean</th>\n",
       "      <td>0.174434</td>\n",
       "      <td>7.382839e+03</td>\n",
       "      <td>1869.303683</td>\n",
       "      <td>962.230421</td>\n",
       "      <td>1867.923748</td>\n",
       "      <td>959.980177</td>\n",
       "      <td>193.220271</td>\n",
       "      <td>1691.337958</td>\n",
       "      <td>844.414635</td>\n",
       "      <td>188.400489</td>\n",
       "      <td>0.000754</td>\n",
       "      <td>0.065906</td>\n",
       "      <td>45.0</td>\n",
       "      <td>86.000000</td>\n",
       "      <td>86.000000</td>\n",
       "      <td>1456.682525</td>\n",
       "    </tr>\n",
       "    <tr>\n",
       "      <th>std</th>\n",
       "      <td>0.801564</td>\n",
       "      <td>1.180972e+05</td>\n",
       "      <td>805.722577</td>\n",
       "      <td>396.942048</td>\n",
       "      <td>790.067125</td>\n",
       "      <td>393.420906</td>\n",
       "      <td>121.568228</td>\n",
       "      <td>964.729238</td>\n",
       "      <td>461.817675</td>\n",
       "      <td>100.454462</td>\n",
       "      <td>0.027457</td>\n",
       "      <td>0.248144</td>\n",
       "      <td>0.0</td>\n",
       "      <td>49.507575</td>\n",
       "      <td>49.507575</td>\n",
       "      <td>860.944280</td>\n",
       "    </tr>\n",
       "    <tr>\n",
       "      <th>min</th>\n",
       "      <td>0.000000</td>\n",
       "      <td>0.000000e+00</td>\n",
       "      <td>0.000000</td>\n",
       "      <td>-669.500000</td>\n",
       "      <td>0.000000</td>\n",
       "      <td>-1124.300000</td>\n",
       "      <td>0.000000</td>\n",
       "      <td>0.000000</td>\n",
       "      <td>-13.800000</td>\n",
       "      <td>0.000000</td>\n",
       "      <td>0.000000</td>\n",
       "      <td>0.000000</td>\n",
       "      <td>45.0</td>\n",
       "      <td>1.000000</td>\n",
       "      <td>1.000000</td>\n",
       "      <td>0.001953</td>\n",
       "    </tr>\n",
       "    <tr>\n",
       "      <th>25%</th>\n",
       "      <td>0.011000</td>\n",
       "      <td>1.150000e+00</td>\n",
       "      <td>1410.000000</td>\n",
       "      <td>786.450000</td>\n",
       "      <td>1443.000000</td>\n",
       "      <td>788.225000</td>\n",
       "      <td>94.000000</td>\n",
       "      <td>1154.900000</td>\n",
       "      <td>677.000000</td>\n",
       "      <td>159.000000</td>\n",
       "      <td>0.000000</td>\n",
       "      <td>0.000000</td>\n",
       "      <td>45.0</td>\n",
       "      <td>43.500000</td>\n",
       "      <td>43.500000</td>\n",
       "      <td>663.708008</td>\n",
       "    </tr>\n",
       "    <tr>\n",
       "      <th>50%</th>\n",
       "      <td>0.039500</td>\n",
       "      <td>3.385000e+00</td>\n",
       "      <td>1958.800000</td>\n",
       "      <td>1012.300000</td>\n",
       "      <td>1941.900000</td>\n",
       "      <td>1009.000000</td>\n",
       "      <td>180.000000</td>\n",
       "      <td>1869.000000</td>\n",
       "      <td>924.800000</td>\n",
       "      <td>210.000000</td>\n",
       "      <td>0.000000</td>\n",
       "      <td>0.000000</td>\n",
       "      <td>45.0</td>\n",
       "      <td>86.000000</td>\n",
       "      <td>86.000000</td>\n",
       "      <td>1413.116211</td>\n",
       "    </tr>\n",
       "    <tr>\n",
       "      <th>75%</th>\n",
       "      <td>0.101000</td>\n",
       "      <td>8.820000e+00</td>\n",
       "      <td>2479.350000</td>\n",
       "      <td>1200.300000</td>\n",
       "      <td>2454.075000</td>\n",
       "      <td>1181.300000</td>\n",
       "      <td>294.000000</td>\n",
       "      <td>2478.300000</td>\n",
       "      <td>1157.750000</td>\n",
       "      <td>254.000000</td>\n",
       "      <td>0.000000</td>\n",
       "      <td>0.000000</td>\n",
       "      <td>45.0</td>\n",
       "      <td>128.500000</td>\n",
       "      <td>128.500000</td>\n",
       "      <td>2325.609375</td>\n",
       "    </tr>\n",
       "    <tr>\n",
       "      <th>max</th>\n",
       "      <td>6.000000</td>\n",
       "      <td>2.000000e+06</td>\n",
       "      <td>4555.000000</td>\n",
       "      <td>4119.800000</td>\n",
       "      <td>4551.800000</td>\n",
       "      <td>4146.000000</td>\n",
       "      <td>893.000000</td>\n",
       "      <td>4507.000000</td>\n",
       "      <td>2427.500000</td>\n",
       "      <td>436.000000</td>\n",
       "      <td>1.000000</td>\n",
       "      <td>1.000000</td>\n",
       "      <td>45.0</td>\n",
       "      <td>171.000000</td>\n",
       "      <td>171.000000</td>\n",
       "      <td>2877.192383</td>\n",
       "    </tr>\n",
       "  </tbody>\n",
       "</table>\n",
       "</div>"
      ]
     },
     "metadata": {},
     "execution_count": 93
    }
   ],
   "metadata": {}
  },
  {
   "cell_type": "code",
   "execution_count": null,
   "source": [
    "import matplotlib.pyplot as plt\n",
    "# import plotly.express as px\n",
    "# import plotly.graph_objects as go\n",
    "import seaborn as sns\n",
    "import warnings\n",
    "warnings.filterwarnings('ignore')"
   ],
   "outputs": [
    {
     "output_type": "error",
     "ename": "ModuleNotFoundError",
     "evalue": "No module named 'seaborn'",
     "traceback": [
      "\u001b[0;31m---------------------------------------------------------------------------\u001b[0m",
      "\u001b[0;31mModuleNotFoundError\u001b[0m                       Traceback (most recent call last)",
      "\u001b[0;32m<ipython-input-94-7a83f81f4fb5>\u001b[0m in \u001b[0;36m<module>\u001b[0;34m\u001b[0m\n\u001b[1;32m      2\u001b[0m \u001b[0;31m# import plotly.express as px\u001b[0m\u001b[0;34m\u001b[0m\u001b[0;34m\u001b[0m\u001b[0;34m\u001b[0m\u001b[0m\n\u001b[1;32m      3\u001b[0m \u001b[0;31m# import plotly.graph_objects as go\u001b[0m\u001b[0;34m\u001b[0m\u001b[0;34m\u001b[0m\u001b[0;34m\u001b[0m\u001b[0m\n\u001b[0;32m----> 4\u001b[0;31m \u001b[0;32mimport\u001b[0m \u001b[0mseaborn\u001b[0m \u001b[0;32mas\u001b[0m \u001b[0msns\u001b[0m\u001b[0;34m\u001b[0m\u001b[0;34m\u001b[0m\u001b[0m\n\u001b[0m\u001b[1;32m      5\u001b[0m \u001b[0;32mimport\u001b[0m \u001b[0mwarnings\u001b[0m\u001b[0;34m\u001b[0m\u001b[0;34m\u001b[0m\u001b[0m\n\u001b[1;32m      6\u001b[0m \u001b[0mwarnings\u001b[0m\u001b[0;34m.\u001b[0m\u001b[0mfilterwarnings\u001b[0m\u001b[0;34m(\u001b[0m\u001b[0;34m'ignore'\u001b[0m\u001b[0;34m)\u001b[0m\u001b[0;34m\u001b[0m\u001b[0;34m\u001b[0m\u001b[0m\n",
      "\u001b[0;31mModuleNotFoundError\u001b[0m: No module named 'seaborn'"
     ]
    }
   ],
   "metadata": {}
  },
  {
   "cell_type": "markdown",
   "source": [
    "Define Plotting functions"
   ],
   "metadata": {}
  },
  {
   "cell_type": "code",
   "execution_count": null,
   "source": [
    "def Plot_dis(text):\n",
    "  f= plt.figure(figsize=(21,5))\n",
    "  \n",
    "  ax=f.add_subplot(131)\n",
    "  sns.distplot(df[text],color='b',ax=ax)\n",
    "  ax.set_title('Distribution of {}'.format(text))\n",
    "\n",
    "  ax=f.add_subplot(132)\n",
    "  sns.distplot(df[(df.fix_type == 'NonetoNone')][text], color='g',ax=ax)\n",
    "  ax.set_title('Distribution of {} for Background-Background'.format(text))\n",
    "  \n",
    "  ax=f.add_subplot(133)\n",
    "  sns.distplot(df[(df.fix_type == 'NonetoHF') & (df.fix_type == 'HFtoNone')][text],color='c',ax=ax)\n",
    "  ax.set_title('Distribution of {} for Background-HumanFace and vice-versa'.format(text))\n",
    "\n",
    "  f1= plt.figure(figsize=(13,5))\n",
    "  \n",
    "  ax=f1.add_subplot(121)\n",
    "  sns.distplot(df[(df.fix_type == 'HFtoHF')][text],color='g',ax=ax)\n",
    "  ax.set_title('Distribution of {} for HumanFace-HumanFace'.format(text))\n",
    "\n",
    "  ax=f1.add_subplot(122)\n",
    "  sns.distplot(df[(df.fix_type == 'HFtoOS') & (df.fix_type == 'OStoHF')][text],color='g',ax=ax)\n",
    "  ax.set_title('Distribution of {} for HumanFace-Outside and vice versa'.format(text))"
   ],
   "outputs": [],
   "metadata": {}
  },
  {
   "cell_type": "code",
   "execution_count": null,
   "source": [
    "def Plot_box(text):\n",
    "  fig, axes = plt.subplots(figsize=(25, 15))\n",
    "  fig.suptitle('Box plot of {}'.format(text))\n",
    "  sns.boxplot(ax=axes, data=df, y=text, x='fix_type')"
   ],
   "outputs": [],
   "metadata": {}
  },
  {
   "cell_type": "code",
   "execution_count": null,
   "source": [
    "def Plot_scat(parameter1, parameter2, var1, var2, data=df):\n",
    "  f= plt.figure(figsize=(25,5))\n",
    "  ax=f.add_subplot(121)\n",
    "  sns.scatterplot(x=parameter1,y=parameter2,hue=var1,data=data,ax=ax)\n",
    "  ax.set_title('Relationship between {} and {} in function of {}'.format(parameter1,parameter2,var1))\n",
    "  \n",
    "  ax=f.add_subplot(122)\n",
    "  sns.scatterplot(x=parameter1, y=parameter2,hue=var2,data=data,ax=ax)\n",
    "  ax.set_title('Relationship between {} and {} in function of {}'.format(parameter1,parameter2,var2))"
   ],
   "outputs": [],
   "metadata": {}
  },
  {
   "cell_type": "code",
   "execution_count": null,
   "source": [
    "Plot_dis('sac_amplitude')"
   ],
   "outputs": [],
   "metadata": {}
  },
  {
   "cell_type": "markdown",
   "source": [
    "It appears that we mostly have right skewed distribution and, \n",
    "- People are are spending more time in background to background fixation which seems strange! Normally we have tendency to look foreground objects in the image.\n",
    "- People are are spending more time doing human to human fixation which seems okay. This supports the hypothesis that we have tendency to look foreground objects in the image.\n",
    "\n",
    "Futhermore, we can see that most test subjects are either looking/exploring the image background and then the image foreground -- and we don't have a significant effect at the boundary i.e. between image foreground and background. It is like we are segmenting the image and looking at individual pieces."
   ],
   "metadata": {}
  },
  {
   "cell_type": "code",
   "execution_count": null,
   "source": [
    "Plot_dis('onset')"
   ],
   "outputs": [],
   "metadata": {}
  },
  {
   "cell_type": "markdown",
   "source": [
    "It looks like the onset distribution is somewhat periodic with peaks at 500, 1500, 2500. \n",
    "\n",
    "Also, at the peak or at the middle of a period, the subjects have higher tendency of looking at the background of the image. "
   ],
   "metadata": {}
  },
  {
   "cell_type": "code",
   "execution_count": null,
   "source": [
    "# Plot_box('sac_amplitude')"
   ],
   "outputs": [],
   "metadata": {}
  },
  {
   "cell_type": "markdown",
   "source": [
    "### Plotting scatter plots for eye fixations"
   ],
   "metadata": {}
  },
  {
   "cell_type": "code",
   "execution_count": null,
   "source": [
    "Plot_scat('sac_startpos_x', 'sac_startpos_y', 'sac_amplitude', 'onset', data=df)"
   ],
   "outputs": [],
   "metadata": {}
  },
  {
   "cell_type": "code",
   "execution_count": null,
   "source": [
    "Plot_scat('fix_avgpos_x', 'fix_avgpos_y', 'sac_amplitude', 'onset')"
   ],
   "outputs": [],
   "metadata": {}
  },
  {
   "cell_type": "code",
   "execution_count": null,
   "source": [
    "Plot_scat('fix_avgpos_x', 'fix_avgpos_y', 'sac_vmax', 'fix_avgpupilsize')"
   ],
   "outputs": [],
   "metadata": {}
  },
  {
   "cell_type": "markdown",
   "source": [
    "## Finding Correlation"
   ],
   "metadata": {}
  },
  {
   "cell_type": "code",
   "execution_count": null,
   "source": [
    "correlation = df[['duration', 'sac_amplitude', 'sac_endpos_x', 'sac_endpos_y', 'sac_startpos_x', 'sac_startpos_y', 'sac_vmax', 'fix_avgpos_x', 'fix_avgpos_y', 'fix_avgpupilsize', 'overlapping', 'fix_samebox', 'onset']].corr()\n",
    "\n",
    "fig, ax = plt.subplots(figsize=(10,10))  \n",
    "\n",
    "sns.heatmap(correlation, annot=True, cmap='Greens', ax=ax)\n",
    "plt.title('Correlation between numerical parameters')"
   ],
   "outputs": [],
   "metadata": {}
  },
  {
   "cell_type": "markdown",
   "source": [
    "It appears that `sac_amplitude` have strong correlation with `sac_vmax, fix_avgpos_x, fix_avgpos_y, fix_avgpupilsize`"
   ],
   "metadata": {}
  },
  {
   "cell_type": "code",
   "execution_count": null,
   "source": [
    "sns.catplot(x='duration', kind='count', hue='type', data=df, height=8.27, aspect=20/5)"
   ],
   "outputs": [],
   "metadata": {}
  },
  {
   "cell_type": "code",
   "execution_count": null,
   "source": [
    "sns.catplot(kind='count', x='type',data=df, height=8.27, aspect=20/5)"
   ],
   "outputs": [],
   "metadata": {}
  },
  {
   "cell_type": "code",
   "execution_count": null,
   "source": [
    "sns.catplot(x='fix_type',kind='count',hue='type',data=df, aspect=20/5)"
   ],
   "outputs": [],
   "metadata": {}
  },
  {
   "cell_type": "code",
   "execution_count": null,
   "source": [
    "# sns.jointplot(x='onset',y='sac_amplitude',data=df)"
   ],
   "outputs": [],
   "metadata": {}
  },
  {
   "cell_type": "code",
   "execution_count": null,
   "source": [
    "# sns.lmplot(y='sac_amplitude',x='onset',hue='fix_type',col='type',data=df)"
   ],
   "outputs": [],
   "metadata": {}
  }
 ]
}