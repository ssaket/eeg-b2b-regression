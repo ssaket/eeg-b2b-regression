{
 "metadata": {
  "language_info": {
   "codemirror_mode": {
    "name": "ipython",
    "version": 3
   },
   "file_extension": ".py",
   "mimetype": "text/x-python",
   "name": "python",
   "nbconvert_exporter": "python",
   "pygments_lexer": "ipython3",
   "version": "3.9.6"
  },
  "orig_nbformat": 2,
  "kernelspec": {
   "name": "python3",
   "display_name": "Python 3.9.6 64-bit ('eeg-pipeline': conda)"
  },
  "interpreter": {
   "hash": "173a92a0e93819f22c18d3a068a863ecb9e0b58fa84e48d0a92f0143a680fbf1"
  }
 },
 "nbformat": 4,
 "nbformat_minor": 2,
 "cells": [
  {
   "cell_type": "markdown",
   "source": [
    "### Data information\n",
    "\n",
    "Dataset has the following attributes:\n",
    "\n",
    "- type: Event type\n",
    "- duration:  Duration of the event, if it is a fixation, then it is the fixation duration\n",
    "- sac_amplitude: Amplitude of the eye saccades\n",
    "- sac_endpos_x: `x coordinate` of saccades end position \n",
    "- sac_endpos_y: `y coordinate` of saccades end position\n",
    "- sac_startpos_x: `x coordinate` of saccades start position\n",
    "- sac_startpos_y: `y coordinate` of saccades start position\n",
    "- sac_vmax: Maximal velocity of saccade\n",
    "- fix_avgpos_x: Average `x coordinate` position \n",
    "- fix_avgpos_y: Average `y coordinate` position\n",
    "- fix_avgpupilsize: Average pupil size of the eye\n",
    "- overlapping: Whether there are two bounding boxes that are overlapping (e.g. a face, being partially occluded by another head)\n",
    "- fix_samebox: Whether the current fixation is within the same bounding box (e.g. same face) as the previous one.\n",
    "- id: Subject ID\n",
    "- picID: Picture ID\n",
    "- trialnum: Trial Number\n",
    "- fix_type: Type of the fixation.\n",
    "- onset: Event onset time.\n"
   ],
   "metadata": {}
  },
  {
   "cell_type": "markdown",
   "source": [
    "### Task Summary\n",
    "- Analyse dataset and find relation between variables if any"
   ],
   "metadata": {}
  },
  {
   "cell_type": "code",
   "execution_count": null,
   "source": [
    "import pandas as pd\r\n",
    "import numpy as np\r\n",
    "\r\n",
    "df = pd.read_csv('data/sub-45/eeg/sub-45_task-WLFO_events.tsv', sep='\\t')\r\n",
    "df = df.rename(str.strip, axis='columns')\r\n",
    "\r\n",
    "df.head(2)"
   ],
   "outputs": [],
   "metadata": {}
  },
  {
   "cell_type": "code",
   "execution_count": null,
   "source": [
    "df.info()"
   ],
   "outputs": [],
   "metadata": {}
  },
  {
   "cell_type": "markdown",
   "source": [
    "we observe that: \n",
    "- 'type' and 'fix_type' are categorial values.\n",
    "- duration, sac_amplitude, sac_endpos_x, sac_endpos_y, sac_startpos_x, sac_startpos_y, sac_vmax, fix_avgpos_x, fix_avgpos_y, fix_avgpupilsize, overlapping, fix_samebox, id, picID, trailnum, onset are numerical attributes\n",
    " "
   ],
   "metadata": {}
  },
  {
   "cell_type": "markdown",
   "source": [
    "### Understanding categorical variables "
   ],
   "metadata": {}
  },
  {
   "cell_type": "code",
   "execution_count": null,
   "source": [
    "df['fix_type'].unique()"
   ],
   "outputs": [],
   "metadata": {}
  },
  {
   "cell_type": "markdown",
   "source": [
    "### Types:\n",
    "- NonetoNone:Background to Background\n",
    "- NonetoHF - HFtoNone: Background to Human Face - Human Face to Backgound\n",
    "- HFtoHF: Human Face to Human Face\n",
    "- NonetoOS - OStoNone: Background to Outside the image - Outside to background\n",
    "- NonetoHH - HHToNone: Backgound to human head, in difference to human face\n",
    "- OLtoNone: Overlapping bounding box, no unique attribution possible\n",
    "- HFtoNH: Human Face to non human head (e.g. cardboard, or mannequin)\n",
    "- NHtoNone: Non human head (e.g. cardboard, or mannequin) to Backgound\n",
    "- OStoOS: Outside stimulus to outside stimulus\n",
    "- NHtoNH: Non human head (e.g. cardboard, or mannequin) to Non human head (e.g. cardboard, or mannequin)\n",
    "- OLtoHF: Overlapping bounding box to Human Face?\n",
    "- HFtoHH: Human Face to Human Head\n",
    "- HHtoHH: Human Head to Human Head\n",
    "- NonetoOL: Backgound to Overlapping bounding box\n",
    "- OstoHF - OStoNH: Self decoded\n",
    "- OStoHH - HFtoOS: Self decoded"
   ],
   "metadata": {}
  },
  {
   "cell_type": "code",
   "execution_count": null,
   "source": [
    "df['type'].unique()"
   ],
   "outputs": [],
   "metadata": {}
  },
  {
   "cell_type": "markdown",
   "source": [
    "### Triggers\n",
    "- 213, 214, 215 : Recalibration settings for eye tracker\n",
    "- 180: End of stimulus  "
   ],
   "metadata": {}
  },
  {
   "cell_type": "markdown",
   "source": [
    "## Saliency Map"
   ],
   "metadata": {}
  },
  {
   "cell_type": "code",
   "execution_count": null,
   "source": [
    "df = df.loc[df['type'] == 'fixation']"
   ],
   "outputs": [],
   "metadata": {}
  },
  {
   "cell_type": "markdown",
   "source": [
    "`Null Values` in the dataset"
   ],
   "metadata": {}
  },
  {
   "cell_type": "code",
   "execution_count": null,
   "source": [
    "df.isnull().sum()"
   ],
   "outputs": [],
   "metadata": {}
  },
  {
   "cell_type": "markdown",
   "source": [
    "# Insights on distribution \n",
    "Plotting individual attributes"
   ],
   "metadata": {}
  },
  {
   "cell_type": "code",
   "execution_count": null,
   "source": [
    "df.describe()"
   ],
   "outputs": [],
   "metadata": {}
  },
  {
   "cell_type": "code",
   "execution_count": null,
   "source": [
    "import matplotlib.pyplot as plt\r\n",
    "# import plotly.express as px\r\n",
    "# import plotly.graph_objects as go\r\n",
    "import seaborn as sns\r\n",
    "import warnings\r\n",
    "warnings.filterwarnings('ignore')"
   ],
   "outputs": [],
   "metadata": {}
  },
  {
   "cell_type": "markdown",
   "source": [
    "Define Plotting functions"
   ],
   "metadata": {}
  },
  {
   "cell_type": "code",
   "execution_count": null,
   "source": [
    "def Plot_dis(text):\r\n",
    "  f= plt.figure(figsize=(21,5))\r\n",
    "  \r\n",
    "  ax=f.add_subplot(131)\r\n",
    "  sns.distplot(df[text],color='b',ax=ax)\r\n",
    "  ax.set_title('Distribution of {}'.format(text))\r\n",
    "\r\n",
    "  ax=f.add_subplot(132)\r\n",
    "  sns.distplot(df[(df.fix_type == 'NonetoNone')][text], color='g',ax=ax)\r\n",
    "  ax.set_title('Distribution of {} for Background-Background'.format(text))\r\n",
    "  \r\n",
    "  ax=f.add_subplot(133)\r\n",
    "  sns.distplot(df[(df.fix_type == 'NonetoHF') & (df.fix_type == 'HFtoNone')][text],color='c',ax=ax)\r\n",
    "  ax.set_title('Distribution of {} for Background-HumanFace and vice-versa'.format(text))\r\n",
    "\r\n",
    "  f1= plt.figure(figsize=(13,5))\r\n",
    "  \r\n",
    "  ax=f1.add_subplot(121)\r\n",
    "  sns.distplot(df[(df.fix_type == 'HFtoHF')][text],color='g',ax=ax)\r\n",
    "  ax.set_title('Distribution of {} for HumanFace-HumanFace'.format(text))\r\n",
    "\r\n",
    "  ax=f1.add_subplot(122)\r\n",
    "  sns.distplot(df[(df.fix_type == 'HFtoOS') & (df.fix_type == 'OStoHF')][text],color='g',ax=ax)\r\n",
    "  ax.set_title('Distribution of {} for HumanFace-Outside and vice versa'.format(text))"
   ],
   "outputs": [],
   "metadata": {}
  },
  {
   "cell_type": "code",
   "execution_count": null,
   "source": [
    "def Plot_box(text):\r\n",
    "  fig, axes = plt.subplots(figsize=(25, 15))\r\n",
    "  fig.suptitle('Box plot of {}'.format(text))\r\n",
    "  sns.boxplot(ax=axes, data=df, y=text, x='fix_type')"
   ],
   "outputs": [],
   "metadata": {}
  },
  {
   "cell_type": "code",
   "execution_count": null,
   "source": [
    "def Plot_scat(parameter1, parameter2, var1, var2, data=df):\r\n",
    "  f= plt.figure(figsize=(25,5))\r\n",
    "  ax=f.add_subplot(121)\r\n",
    "  sns.scatterplot(x=parameter1,y=parameter2,hue=var1,data=data,ax=ax)\r\n",
    "  ax.set_title('Relationship between {} and {} in function of {}'.format(parameter1,parameter2,var1))\r\n",
    "  \r\n",
    "  ax=f.add_subplot(122)\r\n",
    "  sns.scatterplot(x=parameter1, y=parameter2,hue=var2,data=data,ax=ax)\r\n",
    "  ax.set_title('Relationship between {} and {} in function of {}'.format(parameter1,parameter2,var2))"
   ],
   "outputs": [],
   "metadata": {}
  },
  {
   "cell_type": "code",
   "execution_count": null,
   "source": [
    "Plot_dis('sac_amplitude')"
   ],
   "outputs": [],
   "metadata": {}
  },
  {
   "cell_type": "markdown",
   "source": [
    "It appears that we mostly have right skewed distribution and, \n",
    "- People are are spending more time in background to background fixation which seems strange! Normally we have tendency to look foreground objects in the image.\n",
    "- People are are spending more time doing human to human fixation which seems okay. This supports the hypothesis that we have tendency to look foreground objects in the image.\n",
    "\n",
    "Futhermore, we can see that most test subjects are either looking/exploring the image background and then the image foreground -- and we don't have a significant effect at the boundary i.e. between image foreground and background. It is like we are segmenting the image and looking at individual pieces."
   ],
   "metadata": {}
  },
  {
   "cell_type": "code",
   "execution_count": null,
   "source": [
    "Plot_dis('onset')"
   ],
   "outputs": [],
   "metadata": {}
  },
  {
   "cell_type": "markdown",
   "source": [
    "It looks like the onset distribution is somewhat periodic with peaks at 500, 1500, 2500. \n",
    "\n",
    "Also, at the peak or at the middle of a period, the subjects have higher tendency of looking at the background of the image. "
   ],
   "metadata": {}
  },
  {
   "cell_type": "code",
   "execution_count": null,
   "source": [
    "# Plot_box('sac_amplitude')"
   ],
   "outputs": [],
   "metadata": {}
  },
  {
   "cell_type": "markdown",
   "source": [
    "### Plotting scatter plots for eye fixations"
   ],
   "metadata": {}
  },
  {
   "cell_type": "code",
   "execution_count": null,
   "source": [
    "Plot_scat('sac_startpos_x', 'sac_startpos_y', 'sac_amplitude', 'onset', data=df)"
   ],
   "outputs": [],
   "metadata": {}
  },
  {
   "cell_type": "code",
   "execution_count": null,
   "source": [
    "Plot_scat('fix_avgpos_x', 'fix_avgpos_y', 'sac_amplitude', 'onset')"
   ],
   "outputs": [],
   "metadata": {}
  },
  {
   "cell_type": "code",
   "execution_count": null,
   "source": [
    "Plot_scat('fix_avgpos_x', 'fix_avgpos_y', 'sac_vmax', 'fix_avgpupilsize')"
   ],
   "outputs": [],
   "metadata": {}
  },
  {
   "cell_type": "markdown",
   "source": [
    "## Finding Correlation"
   ],
   "metadata": {}
  },
  {
   "cell_type": "code",
   "execution_count": null,
   "source": [
    "correlation = df[['duration', 'sac_amplitude', 'sac_endpos_x', 'sac_endpos_y', 'sac_startpos_x', 'sac_startpos_y', 'sac_vmax', 'fix_avgpos_x', 'fix_avgpos_y', 'fix_avgpupilsize', 'overlapping', 'fix_samebox', 'onset']].corr()\r\n",
    "\r\n",
    "fig, ax = plt.subplots(figsize=(10,10))  \r\n",
    "\r\n",
    "sns.heatmap(correlation, annot=True, cmap='Greens', ax=ax)\r\n",
    "plt.title('Correlation between numerical parameters')"
   ],
   "outputs": [],
   "metadata": {}
  },
  {
   "cell_type": "markdown",
   "source": [
    "It appears that `sac_amplitude` have strong correlation with `sac_vmax, fix_avgpos_x, fix_avgpos_y, fix_avgpupilsize`"
   ],
   "metadata": {}
  },
  {
   "cell_type": "code",
   "execution_count": null,
   "source": [
    "sns.catplot(x='duration', kind='count', hue='type', data=df, height=8.27, aspect=20/5)"
   ],
   "outputs": [],
   "metadata": {}
  },
  {
   "cell_type": "code",
   "execution_count": null,
   "source": [
    "sns.catplot(kind='count', x='type',data=df, height=8.27, aspect=20/5)"
   ],
   "outputs": [],
   "metadata": {}
  },
  {
   "cell_type": "code",
   "execution_count": null,
   "source": [
    "sns.catplot(x='fix_type',kind='count',hue='type',data=df, aspect=20/5)"
   ],
   "outputs": [],
   "metadata": {}
  },
  {
   "cell_type": "code",
   "execution_count": null,
   "source": [
    "# sns.jointplot(x='onset',y='sac_amplitude',data=df)"
   ],
   "outputs": [],
   "metadata": {}
  },
  {
   "cell_type": "code",
   "execution_count": null,
   "source": [
    "# sns.lmplot(y='sac_amplitude',x='onset',hue='fix_type',col='type',data=df)"
   ],
   "outputs": [],
   "metadata": {}
  }
 ]
}